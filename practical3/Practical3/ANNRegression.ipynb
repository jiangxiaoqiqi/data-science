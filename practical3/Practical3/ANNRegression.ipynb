{
 "cells": [
  {
   "cell_type": "markdown",
   "metadata": {},
   "source": [
    "# ANN Regression"
   ]
  },
  {
   "cell_type": "code",
   "execution_count": 1,
   "metadata": {},
   "outputs": [],
   "source": [
    "import numpy as np\n",
    "import pandas as pd\n",
    "import matplotlib.pyplot as plt\n",
    "\n",
    "import tensorflow as tf\n",
    "from tensorflow import keras"
   ]
  },
  {
   "cell_type": "markdown",
   "metadata": {
    "id": "9aTxGVzvF9oE"
   },
   "source": [
    "## Dataset\n"
   ]
  },
  {
   "cell_type": "code",
   "execution_count": 2,
   "metadata": {
    "id": "OReSvD2hF_dj"
   },
   "outputs": [],
   "source": [
    "from sklearn.datasets import fetch_california_housing\n",
    "from sklearn.model_selection import train_test_split\n",
    "from sklearn.preprocessing import StandardScaler"
   ]
  },
  {
   "cell_type": "code",
   "execution_count": 3,
   "metadata": {
    "id": "s2k0VWrbGKrj"
   },
   "outputs": [],
   "source": [
    "housing = fetch_california_housing()\n",
    "\n",
    "X_train_full, X_test, y_train_full, y_test = train_test_split(housing.data, housing.target)\n",
    "X_train, X_valid, y_train, y_valid = train_test_split(X_train_full, y_train_full)\n",
    "\n",
    "scaler = StandardScaler()\n",
    "X_train = scaler.fit_transform(X_train)\n",
    "X_valid = scaler.transform(X_valid)\n",
    "X_test = scaler.transform(X_test)"
   ]
  },
  {
   "cell_type": "code",
   "execution_count": 4,
   "metadata": {
    "colab": {
     "base_uri": "https://localhost:8080/"
    },
    "executionInfo": {
     "elapsed": 646,
     "status": "ok",
     "timestamp": 1605615038843,
     "user": {
      "displayName": "Haozhe Zhang",
      "photoUrl": "https://lh3.googleusercontent.com/a-/AOh14GhewCb1FImnjURCLugyfalL8wVXJomnuoEHUckN=s64",
      "userId": "15943369882491692800"
     },
     "user_tz": -60
    },
    "id": "DsN0UCKNHCEh",
    "outputId": "a4214570-f321-474f-9613-31d65c0f5d31"
   },
   "outputs": [
    {
     "data": {
      "text/plain": [
       "(11610, 8)"
      ]
     },
     "execution_count": 4,
     "metadata": {},
     "output_type": "execute_result"
    }
   ],
   "source": [
    "X_train.shape"
   ]
  },
  {
   "cell_type": "markdown",
   "metadata": {
    "id": "djwixel4G1OZ"
   },
   "source": [
    "## Define and train the model"
   ]
  },
  {
   "cell_type": "code",
   "execution_count": 5,
   "metadata": {
    "id": "I7EbpBsDGQnl"
   },
   "outputs": [],
   "source": [
    "model = keras.models.Sequential([\n",
    "    keras.layers.Dense(30, activation=\"relu\", input_shape=X_train.shape[1:]),\n",
    "    keras.layers.Dense(1)\n",
    "])"
   ]
  },
  {
   "cell_type": "code",
   "execution_count": 6,
   "metadata": {
    "colab": {
     "base_uri": "https://localhost:8080/"
    },
    "executionInfo": {
     "elapsed": 815,
     "status": "ok",
     "timestamp": 1605617386596,
     "user": {
      "displayName": "Haozhe Zhang",
      "photoUrl": "https://lh3.googleusercontent.com/a-/AOh14GhewCb1FImnjURCLugyfalL8wVXJomnuoEHUckN=s64",
      "userId": "15943369882491692800"
     },
     "user_tz": -60
    },
    "id": "TegMVH19QOWz",
    "outputId": "f04b345a-4742-4d7a-a9d0-547e4ab169a0"
   },
   "outputs": [
    {
     "name": "stdout",
     "output_type": "stream",
     "text": [
      "Model: \"sequential\"\n",
      "_________________________________________________________________\n",
      "Layer (type)                 Output Shape              Param #   \n",
      "=================================================================\n",
      "dense (Dense)                (None, 30)                270       \n",
      "_________________________________________________________________\n",
      "dense_1 (Dense)              (None, 1)                 31        \n",
      "=================================================================\n",
      "Total params: 301\n",
      "Trainable params: 301\n",
      "Non-trainable params: 0\n",
      "_________________________________________________________________\n"
     ]
    }
   ],
   "source": [
    "model.summary()"
   ]
  },
  {
   "cell_type": "code",
   "execution_count": 7,
   "metadata": {
    "id": "HhFlFxK4QQEI"
   },
   "outputs": [],
   "source": [
    "model.compile(loss=\"mean_squared_error\", optimizer=\"sgd\")"
   ]
  },
  {
   "cell_type": "code",
   "execution_count": 8,
   "metadata": {
    "colab": {
     "base_uri": "https://localhost:8080/"
    },
    "executionInfo": {
     "elapsed": 12177,
     "status": "ok",
     "timestamp": 1605617724978,
     "user": {
      "displayName": "Haozhe Zhang",
      "photoUrl": "https://lh3.googleusercontent.com/a-/AOh14GhewCb1FImnjURCLugyfalL8wVXJomnuoEHUckN=s64",
      "userId": "15943369882491692800"
     },
     "user_tz": -60
    },
    "id": "JVkUEt6BQXSV",
    "outputId": "cc39f035-1592-4a59-adba-0c8e3b7eaac9"
   },
   "outputs": [
    {
     "name": "stdout",
     "output_type": "stream",
     "text": [
      "Epoch 1/30\n",
      "363/363 [==============================] - 0s 802us/step - loss: 0.8406 - val_loss: 0.6611\n",
      "Epoch 2/30\n",
      "363/363 [==============================] - 0s 536us/step - loss: 1.5357 - val_loss: 0.6943\n",
      "Epoch 3/30\n",
      "363/363 [==============================] - 0s 522us/step - loss: 0.5472 - val_loss: 0.4677\n",
      "Epoch 4/30\n",
      "363/363 [==============================] - 0s 513us/step - loss: 0.4637 - val_loss: 0.4375\n",
      "Epoch 5/30\n",
      "363/363 [==============================] - 0s 518us/step - loss: 0.4403 - val_loss: 0.4216\n",
      "Epoch 6/30\n",
      "363/363 [==============================] - 0s 521us/step - loss: 0.4235 - val_loss: 0.4198\n",
      "Epoch 7/30\n",
      "363/363 [==============================] - 0s 517us/step - loss: 0.4118 - val_loss: 0.4088\n",
      "Epoch 8/30\n",
      "363/363 [==============================] - 0s 514us/step - loss: 0.4057 - val_loss: 0.3986\n",
      "Epoch 9/30\n",
      "363/363 [==============================] - 0s 512us/step - loss: 0.3974 - val_loss: 0.3944\n",
      "Epoch 10/30\n",
      "363/363 [==============================] - 0s 514us/step - loss: 0.3925 - val_loss: 0.3911\n",
      "Epoch 11/30\n",
      "363/363 [==============================] - 0s 515us/step - loss: 0.3875 - val_loss: 0.3890\n",
      "Epoch 12/30\n",
      "363/363 [==============================] - 0s 513us/step - loss: 0.3846 - val_loss: 0.3918\n",
      "Epoch 13/30\n",
      "363/363 [==============================] - 0s 514us/step - loss: 0.3800 - val_loss: 0.3862\n",
      "Epoch 14/30\n",
      "363/363 [==============================] - 0s 579us/step - loss: 0.3778 - val_loss: 0.3832\n",
      "Epoch 15/30\n",
      "363/363 [==============================] - 0s 521us/step - loss: 0.3726 - val_loss: 0.3792\n",
      "Epoch 16/30\n",
      "363/363 [==============================] - 0s 521us/step - loss: 0.3695 - val_loss: 0.3729\n",
      "Epoch 17/30\n",
      "363/363 [==============================] - 0s 525us/step - loss: 0.3676 - val_loss: 0.3702\n",
      "Epoch 18/30\n",
      "363/363 [==============================] - 0s 517us/step - loss: 0.3639 - val_loss: 0.3760\n",
      "Epoch 19/30\n",
      "363/363 [==============================] - 0s 529us/step - loss: 0.3618 - val_loss: 0.3646\n",
      "Epoch 20/30\n",
      "363/363 [==============================] - 0s 561us/step - loss: 0.3603 - val_loss: 0.3646\n",
      "Epoch 21/30\n",
      "363/363 [==============================] - 0s 566us/step - loss: 0.3579 - val_loss: 0.3636\n",
      "Epoch 22/30\n",
      "363/363 [==============================] - 0s 546us/step - loss: 0.3553 - val_loss: 0.3650\n",
      "Epoch 23/30\n",
      "363/363 [==============================] - 0s 668us/step - loss: 0.3546 - val_loss: 0.3609\n",
      "Epoch 24/30\n",
      "363/363 [==============================] - 0s 736us/step - loss: 0.3511 - val_loss: 0.3719\n",
      "Epoch 25/30\n",
      "363/363 [==============================] - 0s 532us/step - loss: 0.3495 - val_loss: 0.3549\n",
      "Epoch 26/30\n",
      "363/363 [==============================] - 0s 549us/step - loss: 0.3456 - val_loss: 0.3559\n",
      "Epoch 27/30\n",
      "363/363 [==============================] - 0s 580us/step - loss: 0.3437 - val_loss: 0.3522\n",
      "Epoch 28/30\n",
      "363/363 [==============================] - 0s 580us/step - loss: 0.3428 - val_loss: 0.3535\n",
      "Epoch 29/30\n",
      "363/363 [==============================] - 0s 658us/step - loss: 0.3465 - val_loss: 0.3513\n",
      "Epoch 30/30\n",
      "363/363 [==============================] - 0s 735us/step - loss: 0.3393 - val_loss: 0.3532\n"
     ]
    }
   ],
   "source": [
    "history = model.fit(X_train, y_train, epochs=30, validation_data=(X_valid, y_valid))"
   ]
  },
  {
   "cell_type": "code",
   "execution_count": 9,
   "metadata": {
    "colab": {
     "base_uri": "https://localhost:8080/"
    },
    "executionInfo": {
     "elapsed": 11597,
     "status": "ok",
     "timestamp": 1605617725252,
     "user": {
      "displayName": "Haozhe Zhang",
      "photoUrl": "https://lh3.googleusercontent.com/a-/AOh14GhewCb1FImnjURCLugyfalL8wVXJomnuoEHUckN=s64",
      "userId": "15943369882491692800"
     },
     "user_tz": -60
    },
    "id": "Hou_sfpKQd7w",
    "outputId": "a287a1f3-9e63-4578-bedd-040957dfb8a7"
   },
   "outputs": [
    {
     "name": "stdout",
     "output_type": "stream",
     "text": [
      "162/162 [==============================] - 0s 450us/step - loss: 0.3697\n"
     ]
    },
    {
     "data": {
      "text/plain": [
       "0.36970165371894836"
      ]
     },
     "execution_count": 9,
     "metadata": {},
     "output_type": "execute_result"
    }
   ],
   "source": [
    "model.evaluate(X_test, y_test)"
   ]
  },
  {
   "cell_type": "code",
   "execution_count": null,
   "metadata": {
    "id": "0MCTzktYQ_0f"
   },
   "outputs": [],
   "source": []
  }
 ],
 "metadata": {
  "colab": {
   "authorship_tag": "ABX9TyMpvbkKlv/5JmWaKVHPAwKH",
   "collapsed_sections": [],
   "name": "RegressionMLP.ipynb",
   "provenance": []
  },
  "kernelspec": {
   "display_name": "Python 3",
   "language": "python",
   "name": "python3"
  },
  "language_info": {
   "codemirror_mode": {
    "name": "ipython",
    "version": 3
   },
   "file_extension": ".py",
   "mimetype": "text/x-python",
   "name": "python",
   "nbconvert_exporter": "python",
   "pygments_lexer": "ipython3",
   "version": "3.8.3"
  }
 },
 "nbformat": 4,
 "nbformat_minor": 4
}
