{
 "cells": [
  {
   "cell_type": "markdown",
   "metadata": {
    "id": "cmAOUBuGZMGh"
   },
   "source": [
    "## Wide & Deep neural networks\n",
    "\n",
    "This neural network architecture was introduced in a 2016 paper by Heng-Tze Cheng et al. \n",
    "\n",
    "https://arxiv.org/abs/1606.07792\n"
   ]
  },
  {
   "cell_type": "code",
   "execution_count": null,
   "metadata": {},
   "outputs": [],
   "source": [
    "import numpy as np\n",
    "import pandas as pd\n",
    "import matplotlib.pyplot as plt\n",
    "\n",
    "import tensorflow as tf\n",
    "from tensorflow import keras"
   ]
  },
  {
   "cell_type": "markdown",
   "metadata": {
    "id": "2swKw1pDZotH"
   },
   "source": [
    "## Dataset"
   ]
  },
  {
   "cell_type": "code",
   "execution_count": null,
   "metadata": {
    "executionInfo": {
     "elapsed": 1703,
     "status": "ok",
     "timestamp": 1605619931764,
     "user": {
      "displayName": "Haozhe Zhang",
      "photoUrl": "https://lh3.googleusercontent.com/a-/AOh14GhewCb1FImnjURCLugyfalL8wVXJomnuoEHUckN=s64",
      "userId": "15943369882491692800"
     },
     "user_tz": -60
    },
    "id": "KPTVx2rJZBfy"
   },
   "outputs": [],
   "source": [
    "from sklearn.datasets import fetch_california_housing\n",
    "from sklearn.model_selection import train_test_split\n",
    "from sklearn.preprocessing import StandardScaler"
   ]
  },
  {
   "cell_type": "code",
   "execution_count": null,
   "metadata": {
    "colab": {
     "base_uri": "https://localhost:8080/"
    },
    "executionInfo": {
     "elapsed": 3567,
     "status": "ok",
     "timestamp": 1605619933632,
     "user": {
      "displayName": "Haozhe Zhang",
      "photoUrl": "https://lh3.googleusercontent.com/a-/AOh14GhewCb1FImnjURCLugyfalL8wVXJomnuoEHUckN=s64",
      "userId": "15943369882491692800"
     },
     "user_tz": -60
    },
    "id": "xSE_tsYSZvZj",
    "outputId": "e0e37686-3816-48fb-dd3a-0fe76f8a9356"
   },
   "outputs": [],
   "source": [
    "housing = fetch_california_housing()\n",
    "\n",
    "X_train_full, X_test, y_train_full, y_test = train_test_split(housing.data, housing.target)\n",
    "X_train, X_valid, y_train, y_valid = train_test_split(X_train_full, y_train_full)\n",
    "\n",
    "scaler = StandardScaler()\n",
    "X_train = scaler.fit_transform(X_train)\n",
    "X_valid = scaler.transform(X_valid)\n",
    "X_test = scaler.transform(X_test)"
   ]
  },
  {
   "cell_type": "markdown",
   "metadata": {
    "id": "0BMxt_l7Z3tB"
   },
   "source": [
    "## Define and train the model"
   ]
  },
  {
   "cell_type": "markdown",
   "metadata": {},
   "source": [
    "<img src=\"WideAndDeep.png\" width=\"30%\">"
   ]
  },
  {
   "cell_type": "code",
   "execution_count": 12,
   "metadata": {
    "executionInfo": {
     "elapsed": 391,
     "status": "ok",
     "timestamp": 1605620067370,
     "user": {
      "displayName": "Haozhe Zhang",
      "photoUrl": "https://lh3.googleusercontent.com/a-/AOh14GhewCb1FImnjURCLugyfalL8wVXJomnuoEHUckN=s64",
      "userId": "15943369882491692800"
     },
     "user_tz": -60
    },
    "id": "Qn60zuZnZzjJ"
   },
   "outputs": [],
   "source": [
    "input_ = keras.layers.Input(shape=X_train.shape[1:])\n",
    "hidden1 = keras.layers.Dense(30, activation=\"relu\")(input_)\n",
    "hidden2 = keras.layers.Dense(30, activation=\"relu\")(hidden1)\n",
    "concat = keras.layers.Concatenate()([input_, hidden2])\n",
    "output = keras.layers.Dense(1)(concat)\n",
    "model = keras.Model(inputs=[input_], outputs=[output])"
   ]
  },
  {
   "cell_type": "code",
   "execution_count": 13,
   "metadata": {
    "colab": {
     "base_uri": "https://localhost:8080/"
    },
    "executionInfo": {
     "elapsed": 721,
     "status": "ok",
     "timestamp": 1605620181168,
     "user": {
      "displayName": "Haozhe Zhang",
      "photoUrl": "https://lh3.googleusercontent.com/a-/AOh14GhewCb1FImnjURCLugyfalL8wVXJomnuoEHUckN=s64",
      "userId": "15943369882491692800"
     },
     "user_tz": -60
    },
    "id": "bjwJAC1wadP3",
    "outputId": "70e15015-d03d-4d52-cd82-790c855d202a"
   },
   "outputs": [
    {
     "name": "stdout",
     "output_type": "stream",
     "text": [
      "Model: \"functional_3\"\n",
      "__________________________________________________________________________________________________\n",
      "Layer (type)                    Output Shape         Param #     Connected to                     \n",
      "==================================================================================================\n",
      "input_2 (InputLayer)            [(None, 8)]          0                                            \n",
      "__________________________________________________________________________________________________\n",
      "dense_3 (Dense)                 (None, 30)           270         input_2[0][0]                    \n",
      "__________________________________________________________________________________________________\n",
      "dense_4 (Dense)                 (None, 30)           930         dense_3[0][0]                    \n",
      "__________________________________________________________________________________________________\n",
      "concatenate_1 (Concatenate)     (None, 38)           0           input_2[0][0]                    \n",
      "                                                                 dense_4[0][0]                    \n",
      "__________________________________________________________________________________________________\n",
      "dense_5 (Dense)                 (None, 1)            39          concatenate_1[0][0]              \n",
      "==================================================================================================\n",
      "Total params: 1,239\n",
      "Trainable params: 1,239\n",
      "Non-trainable params: 0\n",
      "__________________________________________________________________________________________________\n"
     ]
    }
   ],
   "source": [
    "model.summary()"
   ]
  },
  {
   "cell_type": "code",
   "execution_count": 14,
   "metadata": {
    "executionInfo": {
     "elapsed": 498,
     "status": "ok",
     "timestamp": 1605620192579,
     "user": {
      "displayName": "Haozhe Zhang",
      "photoUrl": "https://lh3.googleusercontent.com/a-/AOh14GhewCb1FImnjURCLugyfalL8wVXJomnuoEHUckN=s64",
      "userId": "15943369882491692800"
     },
     "user_tz": -60
    },
    "id": "Wf6p5qDwa6Wv"
   },
   "outputs": [],
   "source": [
    "model.compile(loss=\"mean_squared_error\", optimizer=keras.optimizers.SGD(lr=0.001))"
   ]
  },
  {
   "cell_type": "code",
   "execution_count": 15,
   "metadata": {
    "colab": {
     "base_uri": "https://localhost:8080/"
    },
    "executionInfo": {
     "elapsed": 13888,
     "status": "ok",
     "timestamp": 1605620206766,
     "user": {
      "displayName": "Haozhe Zhang",
      "photoUrl": "https://lh3.googleusercontent.com/a-/AOh14GhewCb1FImnjURCLugyfalL8wVXJomnuoEHUckN=s64",
      "userId": "15943369882491692800"
     },
     "user_tz": -60
    },
    "id": "5ywE7TYJa9MY",
    "outputId": "14248f0a-8f86-474e-b0df-9ba1eff7ba88"
   },
   "outputs": [
    {
     "name": "stdout",
     "output_type": "stream",
     "text": [
      "Epoch 1/30\n",
      "363/363 [==============================] - 0s 775us/step - loss: 2.1517 - val_loss: 1.0477\n",
      "Epoch 2/30\n",
      "363/363 [==============================] - 0s 562us/step - loss: 0.8446 - val_loss: 0.7218\n",
      "Epoch 3/30\n",
      "363/363 [==============================] - 0s 556us/step - loss: 0.7245 - val_loss: 0.6677\n",
      "Epoch 4/30\n",
      "363/363 [==============================] - 0s 548us/step - loss: 0.6769 - val_loss: 0.6276\n",
      "Epoch 5/30\n",
      "363/363 [==============================] - 0s 564us/step - loss: 0.6411 - val_loss: 0.5971\n",
      "Epoch 6/30\n",
      "363/363 [==============================] - 0s 562us/step - loss: 0.6133 - val_loss: 0.5725\n",
      "Epoch 7/30\n",
      "363/363 [==============================] - 0s 543us/step - loss: 0.5914 - val_loss: 0.5531\n",
      "Epoch 8/30\n",
      "363/363 [==============================] - 0s 580us/step - loss: 0.5737 - val_loss: 0.5382\n",
      "Epoch 9/30\n",
      "363/363 [==============================] - 0s 568us/step - loss: 0.5587 - val_loss: 0.5237\n",
      "Epoch 10/30\n",
      "363/363 [==============================] - 0s 649us/step - loss: 0.5476 - val_loss: 0.5133\n",
      "Epoch 11/30\n",
      "363/363 [==============================] - 0s 557us/step - loss: 0.5371 - val_loss: 0.5044\n",
      "Epoch 12/30\n",
      "363/363 [==============================] - 0s 603us/step - loss: 0.5290 - val_loss: 0.4964\n",
      "Epoch 13/30\n",
      "363/363 [==============================] - 0s 628us/step - loss: 0.5204 - val_loss: 0.4897\n",
      "Epoch 14/30\n",
      "363/363 [==============================] - 0s 584us/step - loss: 0.5138 - val_loss: 0.4857\n",
      "Epoch 15/30\n",
      "363/363 [==============================] - 0s 562us/step - loss: 0.5088 - val_loss: 0.4781\n",
      "Epoch 16/30\n",
      "363/363 [==============================] - 0s 557us/step - loss: 0.5029 - val_loss: 0.4729\n",
      "Epoch 17/30\n",
      "363/363 [==============================] - 0s 548us/step - loss: 0.4983 - val_loss: 0.4685\n",
      "Epoch 18/30\n",
      "363/363 [==============================] - 0s 544us/step - loss: 0.4937 - val_loss: 0.4652\n",
      "Epoch 19/30\n",
      "363/363 [==============================] - 0s 561us/step - loss: 0.4890 - val_loss: 0.4609\n",
      "Epoch 20/30\n",
      "363/363 [==============================] - 0s 554us/step - loss: 0.4857 - val_loss: 0.4575\n",
      "Epoch 21/30\n",
      "363/363 [==============================] - 0s 548us/step - loss: 0.4817 - val_loss: 0.4543\n",
      "Epoch 22/30\n",
      "363/363 [==============================] - 0s 550us/step - loss: 0.4781 - val_loss: 0.4505\n",
      "Epoch 23/30\n",
      "363/363 [==============================] - 0s 541us/step - loss: 0.4753 - val_loss: 0.4476\n",
      "Epoch 24/30\n",
      "363/363 [==============================] - 0s 555us/step - loss: 0.4718 - val_loss: 0.4444\n",
      "Epoch 25/30\n",
      "363/363 [==============================] - 0s 555us/step - loss: 0.4690 - val_loss: 0.4415\n",
      "Epoch 26/30\n",
      "363/363 [==============================] - 0s 553us/step - loss: 0.4664 - val_loss: 0.4396\n",
      "Epoch 27/30\n",
      "363/363 [==============================] - 0s 543us/step - loss: 0.4634 - val_loss: 0.4365\n",
      "Epoch 28/30\n",
      "363/363 [==============================] - 0s 557us/step - loss: 0.4607 - val_loss: 0.4341\n",
      "Epoch 29/30\n",
      "363/363 [==============================] - 0s 545us/step - loss: 0.4577 - val_loss: 0.4331\n",
      "Epoch 30/30\n",
      "363/363 [==============================] - 0s 545us/step - loss: 0.4560 - val_loss: 0.4295\n"
     ]
    }
   ],
   "source": [
    "history = model.fit(X_train, y_train, epochs=30, validation_data=(X_valid, y_valid))"
   ]
  },
  {
   "cell_type": "code",
   "execution_count": 16,
   "metadata": {
    "colab": {
     "base_uri": "https://localhost:8080/"
    },
    "executionInfo": {
     "elapsed": 605,
     "status": "ok",
     "timestamp": 1605620212741,
     "user": {
      "displayName": "Haozhe Zhang",
      "photoUrl": "https://lh3.googleusercontent.com/a-/AOh14GhewCb1FImnjURCLugyfalL8wVXJomnuoEHUckN=s64",
      "userId": "15943369882491692800"
     },
     "user_tz": -60
    },
    "id": "Fg5nRulRa9Y8",
    "outputId": "2e0089fa-1c0b-4ae6-f02a-98bf08cf0595"
   },
   "outputs": [
    {
     "name": "stdout",
     "output_type": "stream",
     "text": [
      "162/162 [==============================] - 0s 357us/step - loss: 0.4259\n"
     ]
    },
    {
     "data": {
      "text/plain": [
       "0.425913542509079"
      ]
     },
     "execution_count": 16,
     "metadata": {},
     "output_type": "execute_result"
    }
   ],
   "source": [
    "model.evaluate(X_test, y_test)"
   ]
  },
  {
   "cell_type": "code",
   "execution_count": null,
   "metadata": {},
   "outputs": [],
   "source": []
  }
 ],
 "metadata": {
  "colab": {
   "authorship_tag": "ABX9TyOG/qkj7rEzzsQD0Hb35+Im",
   "name": "WideAndDeep.ipynb",
   "provenance": []
  },
  "kernelspec": {
   "display_name": "Python 3",
   "language": "python",
   "name": "python3"
  },
  "language_info": {
   "codemirror_mode": {
    "name": "ipython",
    "version": 3
   },
   "file_extension": ".py",
   "mimetype": "text/x-python",
   "name": "python",
   "nbconvert_exporter": "python",
   "pygments_lexer": "ipython3",
   "version": "3.8.3"
  }
 },
 "nbformat": 4,
 "nbformat_minor": 4
}
